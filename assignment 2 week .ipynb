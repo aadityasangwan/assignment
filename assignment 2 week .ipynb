{
 "cells": [
  {
   "cell_type": "markdown",
   "id": "1f9a5761-4e22-4809-af19-940af79327f9",
   "metadata": {},
   "source": [
    "Q1. How do you comment code in Python? What are the different types of comments?"
   ]
  },
  {
   "cell_type": "markdown",
   "id": "6e6e37cb-3f84-4adf-b6cf-e3bd270d7856",
   "metadata": {},
   "source": [
    "by using hash we can write a comment"
   ]
  },
  {
   "cell_type": "code",
   "execution_count": 1,
   "id": "69116bfc-e5cf-442f-969e-d9481ad332a0",
   "metadata": {},
   "outputs": [],
   "source": [
    "# My name is Aaditya sangwan"
   ]
  },
  {
   "cell_type": "markdown",
   "id": "d8a10e76-3295-44ec-923a-b75af090a468",
   "metadata": {},
   "source": [
    "There are 2 type of comment \n",
    "single line comment and multiline comment"
   ]
  },
  {
   "cell_type": "code",
   "execution_count": 4,
   "id": "86ead8e0-adf0-4446-9f1c-c60228814114",
   "metadata": {},
   "outputs": [
    {
     "data": {
      "text/plain": [
       "' the above eg of single line comment\\nmultiline comment\\nthis is my first programming langauge \\ni am very happy to learn coding .\\ni learn many topics of python like variable string list turples sets and dictionary and mutable and inmutable'"
      ]
     },
     "execution_count": 4,
     "metadata": {},
     "output_type": "execute_result"
    }
   ],
   "source": [
    "\"\"\" the above eg of single line comment\n",
    "multiline comment\n",
    "this is my first programming langauge \n",
    "i am very happy to learn coding .\n",
    "i learn many topics of python like variable string list turples sets and dictionary and mutable and inmutable\"\"\""
   ]
  },
  {
   "cell_type": "markdown",
   "id": "e700b1b6-b54a-4250-888d-101366e3dbff",
   "metadata": {},
   "source": [
    "Q2. What are variables in Python? How do you declare and assign values to variables?"
   ]
  },
  {
   "cell_type": "markdown",
   "id": "b9ea40a1-0177-48cb-8655-9ba3f718f1c2",
   "metadata": {},
   "source": [
    "variable are those in which we can store values and when we call a certain variable it gives us that value which is stored in it\n",
    "there are many type of variable like strings integers ,float ,complex no, boolean etc"
   ]
  },
  {
   "cell_type": "code",
   "execution_count": 5,
   "id": "ade07320-c1ca-43f7-b0ae-c64710ec9e27",
   "metadata": {},
   "outputs": [],
   "source": [
    "a = \"aaditya\""
   ]
  },
  {
   "cell_type": "code",
   "execution_count": 9,
   "id": "49cfc87f-4157-4574-8235-5307726c8196",
   "metadata": {},
   "outputs": [
    {
     "data": {
      "text/plain": [
       "'aaditya'"
      ]
     },
     "execution_count": 9,
     "metadata": {},
     "output_type": "execute_result"
    }
   ],
   "source": [
    "a"
   ]
  },
  {
   "cell_type": "code",
   "execution_count": 6,
   "id": "c9a04c1e-b0b4-49d8-9817-e1cc97a64089",
   "metadata": {},
   "outputs": [],
   "source": [
    "b = 12"
   ]
  },
  {
   "cell_type": "code",
   "execution_count": 10,
   "id": "9c3ebfb8-c908-44d3-9523-07e2932adb2e",
   "metadata": {},
   "outputs": [
    {
     "data": {
      "text/plain": [
       "12"
      ]
     },
     "execution_count": 10,
     "metadata": {},
     "output_type": "execute_result"
    }
   ],
   "source": [
    "b"
   ]
  },
  {
   "cell_type": "code",
   "execution_count": 7,
   "id": "02ed55a3-d823-4328-a372-3595ac1a1f8a",
   "metadata": {},
   "outputs": [],
   "source": [
    "c = 12.35"
   ]
  },
  {
   "cell_type": "code",
   "execution_count": 8,
   "id": "2d089b20-ac2f-449f-8e29-b1d694043a98",
   "metadata": {},
   "outputs": [],
   "source": [
    "d = True"
   ]
  },
  {
   "cell_type": "code",
   "execution_count": 11,
   "id": "34b79af3-8b49-4c0d-bc2f-9f8cf3bded0a",
   "metadata": {},
   "outputs": [
    {
     "data": {
      "text/plain": [
       "True"
      ]
     },
     "execution_count": 11,
     "metadata": {},
     "output_type": "execute_result"
    }
   ],
   "source": [
    "d"
   ]
  },
  {
   "cell_type": "code",
   "execution_count": 12,
   "id": "dc4e4c00-788c-4813-aca3-e62945b41825",
   "metadata": {},
   "outputs": [],
   "source": [
    "e = 1+6j"
   ]
  },
  {
   "cell_type": "code",
   "execution_count": 13,
   "id": "766ee6f0-f573-4750-baef-7abc64b41744",
   "metadata": {},
   "outputs": [
    {
     "data": {
      "text/plain": [
       "(1+6j)"
      ]
     },
     "execution_count": 13,
     "metadata": {},
     "output_type": "execute_result"
    }
   ],
   "source": [
    "e"
   ]
  },
  {
   "cell_type": "markdown",
   "id": "360d03dc-9ea4-4dc7-ae8e-2b37100caefd",
   "metadata": {},
   "source": [
    "Q3. How do you convert one data type to another in Python?"
   ]
  },
  {
   "cell_type": "markdown",
   "id": "dd70a512-a2f8-487c-afb0-cf605b70eb4c",
   "metadata": {},
   "source": [
    "by using the typecasting that one data type like an integer to string"
   ]
  },
  {
   "cell_type": "code",
   "execution_count": 20,
   "id": "bb45ba0b-4663-48ef-9885-1361f55302ae",
   "metadata": {},
   "outputs": [],
   "source": [
    "b = 125"
   ]
  },
  {
   "cell_type": "code",
   "execution_count": 21,
   "id": "6b1ab415-5355-404c-97cd-68675eb86782",
   "metadata": {},
   "outputs": [
    {
     "data": {
      "text/plain": [
       "int"
      ]
     },
     "execution_count": 21,
     "metadata": {},
     "output_type": "execute_result"
    }
   ],
   "source": [
    "type(b)"
   ]
  },
  {
   "cell_type": "code",
   "execution_count": 22,
   "id": "9b7a7937-b182-46eb-9ca9-9b103968bd4e",
   "metadata": {},
   "outputs": [],
   "source": [
    "b = str(125)"
   ]
  },
  {
   "cell_type": "code",
   "execution_count": 23,
   "id": "c910c72e-6d1d-4ba2-8b76-9256380166e7",
   "metadata": {},
   "outputs": [
    {
     "data": {
      "text/plain": [
       "str"
      ]
     },
     "execution_count": 23,
     "metadata": {},
     "output_type": "execute_result"
    }
   ],
   "source": [
    "type(b)"
   ]
  },
  {
   "cell_type": "code",
   "execution_count": 24,
   "id": "69d01b7f-505a-428d-b688-e5bae089c043",
   "metadata": {},
   "outputs": [
    {
     "data": {
      "text/plain": [
       "'125'"
      ]
     },
     "execution_count": 24,
     "metadata": {},
     "output_type": "execute_result"
    }
   ],
   "source": [
    "b"
   ]
  },
  {
   "cell_type": "markdown",
   "id": "f7bb7119-2589-4b0f-80a5-3bbef4b9f33b",
   "metadata": {},
   "source": [
    "Q4. How do you write and execute a Python script from the command line?"
   ]
  },
  {
   "cell_type": "markdown",
   "id": "c10c1e23-d0c6-4c13-92be-66744c1ab8bf",
   "metadata": {},
   "source": [
    "we can excute the python script by click shift+enter or ctl + enter and by click above juiper nb run button\n"
   ]
  },
  {
   "cell_type": "markdown",
   "id": "77ec5139-4732-43ea-a3fb-5344cc565d76",
   "metadata": {},
   "source": [
    "Q5. Given a list my_list = [1, 2, 3, 4, 5], write the code to slice the list and obtain the sub-list [2, 3]."
   ]
  },
  {
   "cell_type": "code",
   "execution_count": 26,
   "id": "a6a0f959-52ca-487a-9077-8affe19e4b7a",
   "metadata": {},
   "outputs": [],
   "source": [
    "my_list = [1, 2, 3, 4, 5]"
   ]
  },
  {
   "cell_type": "code",
   "execution_count": 27,
   "id": "cb2640af-fd95-40a6-aedf-69961d3594e4",
   "metadata": {},
   "outputs": [
    {
     "data": {
      "text/plain": [
       "[2, 3]"
      ]
     },
     "execution_count": 27,
     "metadata": {},
     "output_type": "execute_result"
    }
   ],
   "source": [
    "my_list[1:3]"
   ]
  },
  {
   "cell_type": "markdown",
   "id": "5b311d3b-c7cc-469d-be80-c920f7e35ca5",
   "metadata": {},
   "source": [
    "Q6. What is a complex number in mathematics, and how is it represented in Python?"
   ]
  },
  {
   "cell_type": "markdown",
   "id": "dec45c7e-fec1-404e-a9a6-cab63f436471",
   "metadata": {},
   "source": [
    "complx no are those no. which contain a real no and imag. no \n",
    "and it represent in python as below"
   ]
  },
  {
   "cell_type": "code",
   "execution_count": 28,
   "id": "4aa96e35-657f-4d89-8bd6-4886be9dcf15",
   "metadata": {},
   "outputs": [],
   "source": [
    "z = 4 + 8j"
   ]
  },
  {
   "cell_type": "code",
   "execution_count": 29,
   "id": "7e71b5af-324b-4763-b2d9-77afd3d5fe60",
   "metadata": {},
   "outputs": [
    {
     "data": {
      "text/plain": [
       "complex"
      ]
     },
     "execution_count": 29,
     "metadata": {},
     "output_type": "execute_result"
    }
   ],
   "source": [
    "type(z)"
   ]
  },
  {
   "cell_type": "markdown",
   "id": "c3731fc4-193a-4034-82f7-8a611c8077ae",
   "metadata": {},
   "source": [
    "Q7. What is the correct way to declare a variable named age and assign the value 25 to it?"
   ]
  },
  {
   "cell_type": "markdown",
   "id": "156388b5-e8a3-4d9d-9a07-0f3bda53a784",
   "metadata": {},
   "source": [
    "the correct way to declared a variable  is we can use alphabets to declare variable but we cannot use integers and float \n",
    "we cannot use special charcters also like @ we can use underscore to  delcare the variable"
   ]
  },
  {
   "cell_type": "code",
   "execution_count": 30,
   "id": "178ba7a6-294a-496e-b4e4-5bbbaaf9abe6",
   "metadata": {},
   "outputs": [],
   "source": [
    "age = 25"
   ]
  },
  {
   "cell_type": "code",
   "execution_count": 31,
   "id": "c005e35e-0a98-4f33-b9c1-f81f3725521d",
   "metadata": {},
   "outputs": [
    {
     "data": {
      "text/plain": [
       "25"
      ]
     },
     "execution_count": 31,
     "metadata": {},
     "output_type": "execute_result"
    }
   ],
   "source": [
    "age"
   ]
  },
  {
   "cell_type": "markdown",
   "id": "32efb73e-56ba-488a-b0e7-450622d4536e",
   "metadata": {},
   "source": [
    "Q8. Declare a variable named price and assign the value 9.99 to it. What data type does this variable\n",
    "belong to?"
   ]
  },
  {
   "cell_type": "code",
   "execution_count": 32,
   "id": "752d63b4-6a82-4cb7-8478-9ab4b94f2e56",
   "metadata": {},
   "outputs": [],
   "source": [
    "price = 9.99"
   ]
  },
  {
   "cell_type": "code",
   "execution_count": 33,
   "id": "5f7015aa-b4e0-49b6-807f-af3455d12e7c",
   "metadata": {},
   "outputs": [
    {
     "data": {
      "text/plain": [
       "float"
      ]
     },
     "execution_count": 33,
     "metadata": {},
     "output_type": "execute_result"
    }
   ],
   "source": [
    "type(price)"
   ]
  },
  {
   "cell_type": "markdown",
   "id": "ae7e9cd4-0e48-4f8c-921d-16e67f1e6424",
   "metadata": {},
   "source": [
    "Q9. Create a variable named name and assign your full name to it as a string. How would you print the\n",
    "value of this variable?"
   ]
  },
  {
   "cell_type": "code",
   "execution_count": 34,
   "id": "df1bba31-a5d1-4699-9e8a-f4ad4191165b",
   "metadata": {},
   "outputs": [],
   "source": [
    "a = \"aaditya sangwan\""
   ]
  },
  {
   "cell_type": "markdown",
   "id": "61c8f063-ff16-473d-b409-3563ec579364",
   "metadata": {},
   "source": [
    "we use print the value of the variable by using the print "
   ]
  },
  {
   "cell_type": "code",
   "execution_count": 35,
   "id": "b20ee287-4649-4a67-9044-ee0fd1f64b9b",
   "metadata": {},
   "outputs": [
    {
     "name": "stdout",
     "output_type": "stream",
     "text": [
      "aaditya sangwan\n"
     ]
    }
   ],
   "source": [
    "print(a)"
   ]
  },
  {
   "cell_type": "markdown",
   "id": "e570ea04-52d9-4f7c-af97-fe5334a6767a",
   "metadata": {},
   "source": [
    "Q10. Given the string \"Hello, World!\", extract the substring \"World\"."
   ]
  },
  {
   "cell_type": "code",
   "execution_count": 36,
   "id": "1c78ebba-97c8-432e-9ab3-f4ddfaf66550",
   "metadata": {},
   "outputs": [],
   "source": [
    "v =  \"Hello, World!\""
   ]
  },
  {
   "cell_type": "code",
   "execution_count": 41,
   "id": "598b1269-62a4-4137-a32a-93e910fbb164",
   "metadata": {},
   "outputs": [
    {
     "data": {
      "text/plain": [
       "'World'"
      ]
     },
     "execution_count": 41,
     "metadata": {},
     "output_type": "execute_result"
    }
   ],
   "source": [
    "v[7:12]"
   ]
  },
  {
   "cell_type": "markdown",
   "id": "81ab5e9a-9eb5-49ee-960b-0619736eb61c",
   "metadata": {},
   "source": [
    "Q11. Create a variable named \"is_student\" and assign it a boolean value indicating whether you are\n",
    "currently a student or not."
   ]
  },
  {
   "cell_type": "code",
   "execution_count": 45,
   "id": "3938efca-f034-4687-acdb-d539952b8534",
   "metadata": {},
   "outputs": [],
   "source": [
    "is_student = True"
   ]
  },
  {
   "cell_type": "code",
   "execution_count": null,
   "id": "8c26795f-1c56-4d81-9ac2-18254d3a0c3f",
   "metadata": {},
   "outputs": [],
   "source": []
  }
 ],
 "metadata": {
  "kernelspec": {
   "display_name": "Python 3 (ipykernel)",
   "language": "python",
   "name": "python3"
  },
  "language_info": {
   "codemirror_mode": {
    "name": "ipython",
    "version": 3
   },
   "file_extension": ".py",
   "mimetype": "text/x-python",
   "name": "python",
   "nbconvert_exporter": "python",
   "pygments_lexer": "ipython3",
   "version": "3.10.8"
  }
 },
 "nbformat": 4,
 "nbformat_minor": 5
}
